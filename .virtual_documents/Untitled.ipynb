print("hello")


import pandas as pd
import matplotlib.pyplot as plt
import seaborn as sns

sugar= pd.read_csv("diabetes.csv")
print(sugar.info())


sugar.describe()


sugar


sugar.shape()


sugar.info()


sugar.filter(["Age","Glucose"])


sns.barplot(x="Age",y="Glucose",data=sugar)


sugar=sugar.head(10)


sns.barplot(x="Age",y="Glucose",data=sugar)


sugar.info()


sns.barplot(x="Age",y="BMI",data=sugar)


sugar.mean()


sugar.corr()


sugar.count()


sugar.max()


sugar.min()


sugar.median()


sugar.std()


sugar.isnull()


sugar.to_json("diabetes.csv")


sugar.groupby('Age')
plt.show()


data = pd.read_csv("diabetes.csv")


data.info()


data.filter(["Age","BloodPressure"])


data.describe()


data.head(10).info()


data.tail(10).info()


data.head()


data.describe()


api = pd.read_csv("api_data.csv")


api.info()


api.filter(items=["network"]).sort_values("network", ascending=False)


api.reset_index().dtypes


import pandas as pd
air = pd.read_csv("Air Conditioners.csv")


air.describe()


air.shape


air


air['ratings'] = pd.to_numeric(air['ratings'], errors='coerce')  # Convert to numeric, set invalid values to NaN
rating = air[air['ratings'] >= 4]  # Now filter


rating=rating.head(10)


discount_price= air.filter(["discount_price"])
discount_price=discount_price.head(10)


import seaborn as sns
import matplotlib.pyplot as plt

# Plot using correct column names
sns.barplot(data=air, x=rating, y=discount_price)

plt.xlabel("Ratings")
plt.ylabel("Discount Price")
plt.title("Ratings vs Discount Price")
plt.show()



import numpy as np # linear algebra
import pandas as pd # data processing, CSV file I/O (e.g. pd.read_csv)
import os
for dirname, _, filenames in os.walk('/kaggle/input'):
    for filename in filenames:
        print(os.path.join(dirname, filename))

df=pd.read_csv("babar_azam.csv")


# load libraries
import numpy as np
import pandas as pd
import matplotlib.pyplot as plt
import seaborn as sns
import plotly.express as px
import plotly.graph_objects as go


# Batting Positions
data=df
data["Pos"] = data["Pos"].map({1: "Batting At 1", 4: "Batting At 4", 2: "Batting At 2", 
                               3: "Batting At 3", 7:"Batting At 7", 5:"Batting At 5", 
                               6: "batting At 6"})

Pos = data["Pos"].value_counts()
label = Pos.index
counts = Pos.values
colors = ['gold','lightgreen', "pink", "blue", "skyblue", "cyan", "orange"]

fig = go.Figure(data=[go.Pie(labels=label, values=counts)])
fig.update_layout(title_text='Number of Matches At Different Batting Positions')
fig.update_traces(hoverinfo='label+percent', textinfo='value', textfont_size=30,
                  marker=dict(colors=colors, line=dict(color='black', width=3)))
fig.show()


label = data["Pos"]
counts = data["Runs"]
colors = ['gold','lightgreen', "pink", "blue", "skyblue", "cyan", "orange"]

fig = go.Figure(data=[go.Pie(labels=label, values=counts)])
fig.update_layout(title_text='Runs By babar azam At Different Batting Positions')
fig.update_traces(hoverinfo='label+percent', textinfo='value', textfont_size=30,
                  marker=dict(colors=colors, line=dict(color='black', width=3)))
fig.show()


strike_rate = data.query("SR >= 120")
figure = px.bar(strike_rate, x = strike_rate["Inns"], 
                y = strike_rate["SR"], 
                color = strike_rate["SR"],
            title="Bara azam's High Strike Rates in First Innings Vs. Second Innings")
figure.show()


figure = px.scatter(data_frame = data, x="Runs",
                    y="4s", size="SR", trendline="ols", 
                    title="Relationship Between Runs Scored and Fours")
figure.show()


figure = px.scatter(data_frame = data, x="Runs",
                    y="6s", size="SR", trendline="ols", 
                    title= "Relationship Between Runs Scored and Sixes")
figure.show()



